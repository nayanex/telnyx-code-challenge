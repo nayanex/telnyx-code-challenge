{
 "cells": [
  {
   "cell_type": "code",
   "execution_count": 1,
   "metadata": {},
   "outputs": [],
   "source": [
    "import pandas as pd"
   ]
  },
  {
   "cell_type": "code",
   "execution_count": 2,
   "metadata": {},
   "outputs": [],
   "source": [
    "requests_df = pd.read_csv(\"../data/requests.csv\")\n",
    "vlans_df = pd.read_csv(\"../data/vlans.csv\")\n",
    "output = []\n",
    "file_name = \"../data/output.csv\"\n",
    "\n",
    "sorted_vlans_df = vlans_df.sort_values(by=['vlan_id', 'device_id', 'primary_port'])\n",
    "redundant_vlans = sorted_vlans_df.groupby(['device_id','vlan_id'])['primary_port'].filter(lambda g: g.nunique() > 1).reset_index()\n",
    "redundant_vlan_indexes = redundant_vlans['index'].tolist()\n",
    "\n",
    "\n",
    "\n",
    "def trim_sorted_vlans_df():\n",
    "    useless_rows = sorted_vlans_df[(sorted_vlans_df.primary_port == 0) & (~sorted_vlans_df.index.isin(redundant_vlan_indexes))].index.tolist()\n",
    "    sorted_vlans_df.drop(useless_rows, inplace=True)\n",
    "\n"
   ]
  },
  {
   "cell_type": "code",
   "execution_count": 3,
   "metadata": {},
   "outputs": [],
   "source": [
    "def drop_unavailable_redundant_vlans(rows_to_drop):\n",
    "    sorted_vlans_df.drop(rows_to_drop, inplace=True)\n",
    "    del redundant_vlan_indexes[:2]\n",
    "    return True\n",
    "    \n",
    "def drop_unavailable_non_redundant_vlans(rows_to_drop):\n",
    "    crossing_redundant_vlans_index = [i for i,x in enumerate(redundant_vlan_indexes) if x == rows_to_drop[-1]]\n",
    "    if(not crossing_redundant_vlans_index):\n",
    "        sorted_vlans_df.drop(rows_to_drop, inplace=True)\n",
    "        return True\n",
    "    if(crossing_redundant_vlans_index % 2 == 0):\n",
    "        rows_to_drop.append(redundant_vlan_indexes[crossing_redundant_vlans_index+1])\n",
    "        sorted_vlans_df.drop(rows_to_drop, inplace=True)\n",
    "        del redundant_vlan_indexes[crossing_redundant_vlans_index:crossing_redundant_vlans_index+2]\n",
    "    else:\n",
    "        rows_to_drop.append(redundant_vlan_indexes[crossing_redundant_vlans_index-1])\n",
    "        sorted_vlans_df.drop(rows_to_drop, inplace=True)\n",
    "        del redundant_vlan_indexes[crossing_redundant_vlans_index-1:crossing_redundant_vlans_index+1]\n",
    "    return True\n",
    "    \n",
    "def populate_output(lowest_vlans_indexes, request_id):\n",
    "    for index in lowest_vlans_indexes:\n",
    "        device_id = sorted_vlans_df.loc[index]['device_id']\n",
    "        primary_port = sorted_vlans_df.loc[index]['primary_port']\n",
    "        vlan_id = sorted_vlans_df.loc[index]['vlan_id']\n",
    "        output.append((request_id, device_id, primary_port, vlan_id))\n",
    "    \n",
    "def get_lowest_available_vlan_with_redundancy(request_id):\n",
    "    lowest_vlans_indexes = redundant_vlan_indexes[:2]\n",
    "    populate_output(lowest_vlans_indexes, request_id)\n",
    "    drop_unavailable_redundant_vlans(lowest_vlans_indexes)\n",
    "\n",
    "def get_lowest_available_vlan_no_redundancy(request_id):\n",
    "    lowest_vlans_indexes = sorted_vlans_df[(sorted_vlans_df.primary_port == 1)].head(1).index.tolist()\n",
    "    populate_output(lowest_vlans_indexes, request_id)\n",
    "    drop_unavailable_non_redundant_vlans(lowest_vlans_indexes)\n",
    "\n",
    "trim_sorted_vlans_df()\n",
    "\n",
    "for request_id, redundant in requests_df.itertuples(index=False):\n",
    "    if redundant:\n",
    "        get_lowest_available_vlan_with_redundancy(request_id)\n",
    "    else:\n",
    "        get_lowest_available_vlan_no_redundancy(request_id)\n",
    "\n",
    "output_df = pd.DataFrame(output, columns=('request_id', 'device_id', 'primary_port', 'vlan_id'))\n",
    "output_df\n",
    "\n",
    "output_df.to_csv(file_name, encoding='utf-8', index=False)\n"
   ]
  }
 ],
 "metadata": {
  "kernelspec": {
   "display_name": "Python 3",
   "language": "python",
   "name": "python3"
  },
  "language_info": {
   "codemirror_mode": {
    "name": "ipython",
    "version": 3
   },
   "file_extension": ".py",
   "mimetype": "text/x-python",
   "name": "python",
   "nbconvert_exporter": "python",
   "pygments_lexer": "ipython3",
   "version": "3.6.7"
  }
 },
 "nbformat": 4,
 "nbformat_minor": 2
}
